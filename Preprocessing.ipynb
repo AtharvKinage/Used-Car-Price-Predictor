{
 "cells": [
  {
   "cell_type": "code",
   "execution_count": 1,
   "id": "4b48635c",
   "metadata": {},
   "outputs": [],
   "source": [
    "import pandas as pd"
   ]
  },
  {
   "cell_type": "code",
   "execution_count": 2,
   "id": "04dc0e84",
   "metadata": {},
   "outputs": [],
   "source": [
    "def strip_encode_car(i):\n",
    "    k = i.split()\n",
    "    i = k[0]\n",
    "    if i == 'opel': \n",
    "        return 0\n",
    "    if i == 'chevrolet': \n",
    "        return 1\n",
    "    if i == 'datsun': \n",
    "        return 2\n",
    "    if i == 'mitsubishi': \n",
    "        return 3\n",
    "    if i == 'fiat': \n",
    "        return 4\n",
    "    if i == 'nissan': \n",
    "        return 5\n",
    "    if i == 'renault': \n",
    "        return 6\n",
    "    if i == 'maruti': \n",
    "        return 7\n",
    "    if i == 'hyundai': \n",
    "        return 8\n",
    "    if i == 'honda': \n",
    "        return 9\n",
    "    if i == 'tata': \n",
    "        return 10\n",
    "    if i == 'ford': \n",
    "        return 11\n",
    "    if i == 'volkswagen': \n",
    "        return 12\n",
    "    if i == 'skoda': \n",
    "        return 13\n",
    "    if i == 'ssangyong': \n",
    "        return 14\n",
    "    if i == 'mahindra': \n",
    "        return 15\n",
    "    if i == 'toyota': \n",
    "        return 16\n",
    "    if i == 'isuzu': \n",
    "        return 17\n",
    "    if i == 'bmw': \n",
    "        return 18\n",
    "    if i == 'mercedes': \n",
    "        return 19\n",
    "    if i == 'volvo': \n",
    "        return 20\n",
    "    if i == 'jeep': \n",
    "        return 21\n",
    "    if i == 'audi': \n",
    "        return 22\n",
    "    if i == 'kia': \n",
    "        return 23\n",
    "    if i == 'mg': \n",
    "        return 24\n",
    "    if i == 'jaguar': \n",
    "        return 25\n"
   ]
  },
  {
   "cell_type": "code",
   "execution_count": 3,
   "id": "5028b5c0",
   "metadata": {},
   "outputs": [],
   "source": [
    "def fuel(i):\n",
    "    if i == 'petrol & lpg':\n",
    "        return 0\n",
    "    if i == 'petrol & cng':\n",
    "        return 1\n",
    "    if i == 'petrol':\n",
    "        return 2\n",
    "    if i == 'electric':\n",
    "        return 3\n",
    "    if i == 'diesel':\n",
    "        return 4"
   ]
  },
  {
   "cell_type": "code",
   "execution_count": 4,
   "id": "59ed63ae",
   "metadata": {},
   "outputs": [],
   "source": [
    "def body(i):\n",
    "    if i == 'hatchback':\n",
    "        return 0\n",
    "    if i == 'sedan':\n",
    "        return 1\n",
    "    if i == 'suv':\n",
    "        return 2\n",
    "    if i == 'luxury sedan':\n",
    "        return 3\n",
    "    if i == 'luxury suv':\n",
    "        return 4"
   ]
  },
  {
   "cell_type": "code",
   "execution_count": 5,
   "id": "8a1dcbfb",
   "metadata": {},
   "outputs": [],
   "source": [
    "def transmission(i):\n",
    "    import math\n",
    "    if i == 'manual':\n",
    "        return 0\n",
    "    if i == 'automatic':\n",
    "        return 1"
   ]
  },
  {
   "cell_type": "code",
   "execution_count": 6,
   "id": "ed558d8b",
   "metadata": {},
   "outputs": [],
   "source": [
    "def warranty(i):\n",
    "    if i == True:\n",
    "        return 1\n",
    "    if i == False:\n",
    "        return 2"
   ]
  },
  {
   "cell_type": "code",
   "execution_count": 7,
   "id": "2bdbb58d",
   "metadata": {},
   "outputs": [],
   "source": [
    "def preprocessing(data):\n",
    "    data['car_name'] = data['car_name'].apply(strip_encode_car)\n",
    "    data['fuel_type'] = data['fuel_type'].apply(fuel)\n",
    "    data['body_type'] = data['body_type'].apply(body)\n",
    "    data['transmission'] = data['transmission'].apply(transmission)\n",
    "    data['warranty_avail'] = data['warranty_avail'].apply(warranty)\n",
    "    data = pd.get_dummies(data, columns=['city'], drop_first=True)\n",
    "    data = data.dropna()\n",
    "    return data"
   ]
  },
  {
   "cell_type": "code",
   "execution_count": 8,
   "id": "111e06bb",
   "metadata": {
    "scrolled": true
   },
   "outputs": [
    {
     "ename": "SyntaxError",
     "evalue": "invalid syntax (1181610264.py, line 1)",
     "output_type": "error",
     "traceback": [
      "\u001B[1;36m  Cell \u001B[1;32mIn [8], line 1\u001B[1;36m\u001B[0m\n\u001B[1;33m    data = preprocessing(pd.read_csv('./final_train.csv')).\u001B[0m\n\u001B[1;37m                                                           ^\u001B[0m\n\u001B[1;31mSyntaxError\u001B[0m\u001B[1;31m:\u001B[0m invalid syntax\n"
     ]
    }
   ],
   "source": [
    "data = preprocessing(pd.read_csv('./final_train.csv'))."
   ]
  },
  {
   "cell_type": "code",
   "execution_count": null,
   "id": "f95d583a",
   "metadata": {},
   "outputs": [],
   "source": [
    "data.head()"
   ]
  },
  {
   "cell_type": "code",
   "execution_count": null,
   "id": "cf817133",
   "metadata": {},
   "outputs": [],
   "source": []
  }
 ],
 "metadata": {
  "kernelspec": {
   "display_name": "Python 3",
   "language": "python",
   "name": "python3"
  },
  "language_info": {
   "codemirror_mode": {
    "name": "ipython",
    "version": 3
   },
   "file_extension": ".py",
   "mimetype": "text/x-python",
   "name": "python",
   "nbconvert_exporter": "python",
   "pygments_lexer": "ipython3",
   "version": "3.8.8"
  }
 },
 "nbformat": 4,
 "nbformat_minor": 5
}